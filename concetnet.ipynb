{
 "cells": [
  {
   "cell_type": "code",
   "execution_count": 1,
   "metadata": {},
   "outputs": [],
   "source": [
    "import conceptnet_lite\n",
    "conceptnet_lite.connect(\"../OPENAI/data/conceptnet.db\")"
   ]
  },
  {
   "cell_type": "code",
   "execution_count": 2,
   "metadata": {},
   "outputs": [
    {
     "name": "stdout",
     "output_type": "stream",
     "text": [
      "yes\n"
     ]
    }
   ],
   "source": [
    "from conceptnet_lite import Label, edges_for\n",
    "if(Label.get(text='bloodred', language='en').concepts):\n",
    "    print(\"yes\")"
   ]
  },
  {
   "cell_type": "code",
   "execution_count": 3,
   "metadata": {},
   "outputs": [
    {
     "name": "stdout",
     "output_type": "stream",
     "text": [
      "SELECT \"t1\".\"id\", \"t1\".\"label_id\", \"t1\".\"sense_label\" FROM \"concept\" AS \"t1\" WHERE (\"t1\".\"label_id\" = 1483978)\n"
     ]
    }
   ],
   "source": [
    "concepts = Label.get(text='bloodred', language='en').concepts\n",
    "print(concepts)"
   ]
  },
  {
   "cell_type": "code",
   "execution_count": 4,
   "metadata": {},
   "outputs": [],
   "source": [
    "from conceptnet_lite import Concept\n",
    "concept_object = Concept.get(uri='/c/en/bloodred')"
   ]
  },
  {
   "cell_type": "code",
   "execution_count": 5,
   "metadata": {},
   "outputs": [
    {
     "name": "stdout",
     "output_type": "stream",
     "text": [
      "/c/en/bloodred\n"
     ]
    }
   ],
   "source": [
    "print(concept_object)"
   ]
  },
  {
   "cell_type": "code",
   "execution_count": 7,
   "metadata": {},
   "outputs": [
    {
     "name": "stdout",
     "output_type": "stream",
     "text": [
      "die /r/related_to death related_to /a/[/r/related_to/,/c/en/die/,/c/en/death/]\n",
      "die /r/related_to death related_to /a/[/r/related_to/,/c/en/die/v/,/c/en/death/]\n",
      "die /r/related_to death related_to /a/[/r/related_to/,/c/en/die/v/wikt/en_1/,/c/en/death/]\n",
      "die /r/etymologically_related_to death etymologically_related_to /a/[/r/etymologically_related_to/,/c/en/death/,/c/en/die/]\n",
      "die /r/related_to death related_to /a/[/r/related_to/,/c/en/death/,/c/en/die/]\n",
      "die /r/related_to death related_to /a/[/r/related_to/,/c/en/death/n/,/c/en/die/]\n"
     ]
    }
   ],
   "source": [
    "from conceptnet_lite import Label, edges_for, edges_between\n",
    "wt=\"die\"\n",
    "wh=\"death\"\n",
    "concepts_wt = Label.get(text=wt, language='en').concepts\n",
    "concepts_wh = Label.get(text=wh, language='en').concepts\n",
    "for e in edges_between(concepts_wt, concepts_wh, two_way=True):\n",
    "    print(wt,e.relation,wh,e.relation.name,e)"
   ]
  },
  {
   "cell_type": "code",
   "execution_count": 8,
   "metadata": {},
   "outputs": [],
   "source": [
    "sinonimos=set()\n",
    "sinonimos2=set()"
   ]
  },
  {
   "cell_type": "code",
   "execution_count": 9,
   "metadata": {},
   "outputs": [],
   "source": [
    "relaciones=[\"is_a\",\"manner_of\",\"has_a\",\"derived_from\",\"used_for\",\"has_property\",\"form_of\",\"causes\",\"has_prerequisite\",\"has_subevent\",\"has_first_subevent\"]"
   ]
  },
  {
   "cell_type": "code",
   "execution_count": 12,
   "metadata": {},
   "outputs": [
    {
     "name": "stdout",
     "output_type": "stream",
     "text": [
      "buy - buy | has_prerequisite /a/[/r/has_prerequisite/,/c/en/buy/,/c/en/buy/]\n",
      "buy - check_price_tag | has_first_subevent /a/[/r/has_first_subevent/,/c/en/buy/,/c/en/check_price_tag/]\n",
      "buy - choose_object_buying | has_first_subevent /a/[/r/has_first_subevent/,/c/en/buy/,/c/en/choose_object_buying/]\n",
      "buy - choose_what_need | has_first_subevent /a/[/r/has_first_subevent/,/c/en/buy/,/c/en/choose_what_need/]\n",
      "buy - choose_what_to_purchase | has_first_subevent /a/[/r/has_first_subevent/,/c/en/buy/,/c/en/choose_what_to_purchase/]\n",
      "buy - decide_what_to_buy | has_first_subevent /a/[/r/has_first_subevent/,/c/en/buy/,/c/en/decide_what_to_buy/]\n",
      "buy - go_shopping | has_first_subevent /a/[/r/has_first_subevent/,/c/en/buy/,/c/en/go_shopping/]\n",
      "buy - locate_to_buy | has_first_subevent /a/[/r/has_first_subevent/,/c/en/buy/,/c/en/locate_to_buy/]\n",
      "buy - spend_money | has_first_subevent /a/[/r/has_first_subevent/,/c/en/buy/,/c/en/spend_money/]\n",
      "buy - bring_cash | has_prerequisite /a/[/r/has_prerequisite/,/c/en/buy/,/c/en/bring_cash/]\n",
      "buy - carry_purse | has_prerequisite /a/[/r/has_prerequisite/,/c/en/buy/,/c/en/carry_purse/]\n",
      "buy - carry_wallet | has_prerequisite /a/[/r/has_prerequisite/,/c/en/buy/,/c/en/carry_wallet/]\n",
      "buy - choose | has_prerequisite /a/[/r/has_prerequisite/,/c/en/buy/,/c/en/choose/]\n",
      "buy - choose_what_want_to_buy | has_prerequisite /a/[/r/has_prerequisite/,/c/en/buy/,/c/en/choose_what_want_to_buy/]\n",
      "buy - count_money | has_prerequisite /a/[/r/has_prerequisite/,/c/en/buy/,/c/en/count_money/]\n",
      "buy - decide_what_to_buy | has_prerequisite /a/[/r/has_prerequisite/,/c/en/buy/,/c/en/decide_what_to_buy/]\n",
      "buy - do_online | has_prerequisite /a/[/r/has_prerequisite/,/c/en/buy/,/c/en/do_online/]\n",
      "buy - get_clerk's_attention | has_prerequisite /a/[/r/has_prerequisite/,/c/en/buy/,/c/en/get_clerk's_attention/]\n",
      "buy - get_job | has_prerequisite /a/[/r/has_prerequisite/,/c/en/buy/,/c/en/get_job/]\n",
      "buy - get_money | has_prerequisite /a/[/r/has_prerequisite/,/c/en/buy/,/c/en/get_money/]\n",
      "buy - go_shopping | has_prerequisite /a/[/r/has_prerequisite/,/c/en/buy/,/c/en/go_shopping/]\n",
      "buy - go_to_mall_with_money | has_prerequisite /a/[/r/has_prerequisite/,/c/en/buy/,/c/en/go_to_mall_with_money/]\n",
      "buy - go_to_store | has_prerequisite /a/[/r/has_prerequisite/,/c/en/buy/,/c/en/go_to_store/]\n",
      "buy - have_cash_readily_available | has_prerequisite /a/[/r/has_prerequisite/,/c/en/buy/,/c/en/have_cash_readily_available/]\n",
      "buy - have_enough_money | has_prerequisite /a/[/r/has_prerequisite/,/c/en/buy/,/c/en/have_enough_money/]\n",
      "buy - have_in_mind | has_prerequisite /a/[/r/has_prerequisite/,/c/en/buy/,/c/en/have_in_mind/]\n",
      "buy - have_money | has_prerequisite /a/[/r/has_prerequisite/,/c/en/buy/,/c/en/have_money/]\n",
      "buy - have_money_or_credit | has_prerequisite /a/[/r/has_prerequisite/,/c/en/buy/,/c/en/have_money_or_credit/]\n",
      "buy - look_at_it's_price | has_prerequisite /a/[/r/has_prerequisite/,/c/en/buy/,/c/en/look_at_it's_price/]\n",
      "buy - order | has_prerequisite /a/[/r/has_prerequisite/,/c/en/buy/,/c/en/order/]\n",
      "buy - pay | has_prerequisite /a/[/r/has_prerequisite/,/c/en/buy/,/c/en/pay/]\n",
      "buy - paying | has_prerequisite /a/[/r/has_prerequisite/,/c/en/buy/,/c/en/paying/]\n",
      "buy - prepare_to_spend | has_prerequisite /a/[/r/has_prerequisite/,/c/en/buy/,/c/en/prepare_to_spend/]\n",
      "buy - research_available_products | has_prerequisite /a/[/r/has_prerequisite/,/c/en/buy/,/c/en/research_available_products/]\n",
      "buy - save_money | has_prerequisite /a/[/r/has_prerequisite/,/c/en/buy/,/c/en/save_money/]\n",
      "buy - select_for_purchase | has_prerequisite /a/[/r/has_prerequisite/,/c/en/buy/,/c/en/select_for_purchase/]\n",
      "buy - spend_money | has_prerequisite /a/[/r/has_prerequisite/,/c/en/buy/,/c/en/spend_money/]\n",
      "buy - steal_car | has_prerequisite /a/[/r/has_prerequisite/,/c/en/buy/,/c/en/steal_car/]\n",
      "buy - steal_money_first | has_prerequisite /a/[/r/has_prerequisite/,/c/en/buy/,/c/en/steal_money_first/]\n",
      "buy - take_to_counter | has_prerequisite /a/[/r/has_prerequisite/,/c/en/buy/,/c/en/take_to_counter/]\n",
      "buy - can_come_with_warranty | has_subevent /a/[/r/has_subevent/,/c/en/buy/,/c/en/can_come_with_warranty/]\n",
      "buy - choose | has_subevent /a/[/r/has_subevent/,/c/en/buy/,/c/en/choose/]\n",
      "buy - could_booze | has_subevent /a/[/r/has_subevent/,/c/en/buy/,/c/en/could_booze/]\n",
      "buy - get_change_out | has_subevent /a/[/r/has_subevent/,/c/en/buy/,/c/en/get_change_out/]\n",
      "buy - get_rebate | has_subevent /a/[/r/has_subevent/,/c/en/buy/,/c/en/get_rebate/]\n",
      "buy - go_to_shop | has_subevent /a/[/r/has_subevent/,/c/en/buy/,/c/en/go_to_shop/]\n",
      "buy - improve_quality_of_living | has_subevent /a/[/r/has_subevent/,/c/en/buy/,/c/en/improve_quality_of_living/]\n",
      "buy - might_pay_cash | has_subevent /a/[/r/has_subevent/,/c/en/buy/,/c/en/might_pay_cash/]\n",
      "buy - money_spent | has_subevent /a/[/r/has_subevent/,/c/en/buy/,/c/en/money_spent/]\n",
      "buy - pay | has_subevent /a/[/r/has_subevent/,/c/en/buy/,/c/en/pay/]\n",
      "buy - pay_for_with_money | has_subevent /a/[/r/has_subevent/,/c/en/buy/,/c/en/pay_for_with_money/]\n",
      "buy - receive_in_return | has_subevent /a/[/r/has_subevent/,/c/en/buy/,/c/en/receive_in_return/]\n",
      "buy - spend_money | has_subevent /a/[/r/has_subevent/,/c/en/buy/,/c/en/spend_money/]\n",
      "buy - will_excited | has_subevent /a/[/r/has_subevent/,/c/en/buy/,/c/en/will_excited/]\n",
      "buy - will_have_less_money | has_subevent /a/[/r/has_subevent/,/c/en/buy/,/c/en/will_have_less_money/]\n",
      "buy - get | manner_of /a/[/r/manner_of/,/c/en/buy/v/wn/commerce/,/c/en/get/v/wn/possession/]\n",
      "buy - believe | manner_of /a/[/r/manner_of/,/c/en/buy/v/wn/cognition/,/c/en/believe/v/wn/cognition/]\n",
      "buy - get | manner_of /a/[/r/manner_of/,/c/en/buy/v/wn/possession/,/c/en/get/v/wn/possession/]\n",
      "buy - be | manner_of /a/[/r/manner_of/,/c/en/buy/v/wn/stative/,/c/en/be/v/wn/stative/]\n"
     ]
    }
   ],
   "source": [
    "word_h=\"buy\"\n",
    "for e in edges_for(Label.get(text=word_h, language='en').concepts, same_language=True):\n",
    "    #if \"similarTo\"==e.relation.name:# and ¿\n",
    "    if e.relation.name in relaciones:\n",
    "        if word_h== e.start.text:\n",
    "            print(e.start.text, \"-\", e.end.text, \"|\", e.relation.name,e)\n",
    "            sinonimos.add(e.end.text)"
   ]
  },
  {
   "cell_type": "code",
   "execution_count": 11,
   "metadata": {},
   "outputs": [
    {
     "name": "stdout",
     "output_type": "stream",
     "text": [
      "die - body_stops_functioning_completely | has_first_subevent\n",
      "die - deficate | has_first_subevent\n",
      "die - leave_physical_body | has_first_subevent\n",
      "die - rest | has_first_subevent\n",
      "die - stop_breathing | has_first_subevent\n",
      "die - stop_living | has_first_subevent\n",
      "die - stop_thinking | has_first_subevent\n",
      "die - alive | has_prerequisite\n",
      "die - call_dr | has_prerequisite\n",
      "die - commit_suicide | has_prerequisite\n",
      "die - complete_goals | has_prerequisite\n",
      "die - drink_drano | has_prerequisite\n",
      "die - drown_yourself | has_prerequisite\n",
      "die - examine_beliefs | has_prerequisite\n",
      "die - find_who_can_help | has_prerequisite\n",
      "die - go_to_brazil | has_prerequisite\n",
      "die - grow_old | has_prerequisite\n",
      "die - hang_yourself | has_prerequisite\n",
      "die - inhale_carbon_monoxide | has_prerequisite\n",
      "die - kill_yourself | has_prerequisite\n",
      "die - live | has_prerequisite\n",
      "die - make_will | has_prerequisite\n",
      "die - never_want | has_prerequisite\n",
      "die - not_try_to_stay_alive | has_prerequisite\n",
      "die - race_car_driver | has_prerequisite\n",
      "die - rely_on_natural_process | has_prerequisite\n",
      "die - ride_motorcycle_without_helmet | has_prerequisite\n",
      "die - seek_counselling | has_prerequisite\n",
      "die - seek_help | has_prerequisite\n",
      "die - seek_help_from_family_and_friends | has_prerequisite\n",
      "die - shoot_yourself | has_prerequisite\n",
      "die - slash_wrists | has_prerequisite\n",
      "die - smoke_crack | has_prerequisite\n",
      "die - stop_breathing | has_prerequisite\n",
      "die - travel | has_prerequisite\n",
      "die - write_last_will | has_prerequisite\n",
      "die - write_testament | has_prerequisite\n",
      "die - write_will | has_prerequisite\n",
      "die - bad | has_property\n",
      "die - being_buried | has_subevent\n",
      "die - being_put_in_box | has_subevent\n",
      "die - body_buried | has_subevent\n",
      "die - body_decomposes | has_subevent\n",
      "die - body_will_decompose | has_subevent\n",
      "die - body_will_rot | has_subevent\n",
      "die - cease_to_function | has_subevent\n",
      "die - dream | has_subevent\n",
      "die - funeral | has_subevent\n",
      "die - funeral_held | has_subevent\n",
      "die - get_buried | has_subevent\n",
      "die - go_to_heaven | has_subevent\n",
      "die - halt_circulation | has_subevent\n",
      "die - lose_consciousness | has_subevent\n",
      "die - mom_cries | has_subevent\n",
      "die - reincarnated | has_subevent\n",
      "die - rot | has_subevent\n",
      "die - social_security_stops | has_subevent\n",
      "die - stop_breathing | has_subevent\n",
      "die - stop_living | has_subevent\n",
      "die - stop_moving | has_subevent\n",
      "die - tunnel_vison | has_subevent\n",
      "die - change | manner_of\n",
      "die - change_state | manner_of\n",
      "die - disappear | manner_of\n",
      "die - portable_object | is_a\n",
      "die - device | is_a\n",
      "die - ibo | is_a\n",
      "die - tangible_thing | is_a\n",
      "die - template | is_a\n",
      "die - cutter | is_a\n",
      "die - shaping_tool | is_a\n",
      "die - play | manner_of\n",
      "die - cut_out | manner_of\n",
      "die - ache | manner_of\n",
      "die - break_down | manner_of\n",
      "die - feel | manner_of\n",
      "die - suffer | manner_of\n"
     ]
    }
   ],
   "source": [
    "word_h=\"die\"\n",
    "#\"is_a\",\"manner_of\",\"has_a\",\"derived_from\",\"used_for\",\"has_property\"\n",
    "for e in edges_for(Label.get(text=word_h, language='en').concepts, same_language=True):\n",
    "    #if \"similarTo\"==e.relation.name:# and ¿\n",
    "    if e.relation.name in relaciones:\n",
    "        if word_h== e.start.text:\n",
    "            print(e.start.text, \"-\", e.end.text, \"|\", e.relation.name)\n",
    "            sinonimos2.add(e.end.text)"
   ]
  },
  {
   "cell_type": "code",
   "execution_count": 123,
   "metadata": {},
   "outputs": [
    {
     "data": {
      "text/plain": [
       "set()"
      ]
     },
     "execution_count": 123,
     "metadata": {},
     "output_type": "execute_result"
    }
   ],
   "source": [
    "sinonimos.intersection(sinonimos2)"
   ]
  },
  {
   "cell_type": "code",
   "execution_count": 108,
   "metadata": {},
   "outputs": [
    {
     "name": "stdout",
     "output_type": "stream",
     "text": [
      "decease - die | synonym\n",
      "depart - die | synonym\n",
      "dice - die | synonym\n",
      "fall - die | synonym\n",
      "kick_bucket - die | synonym\n",
      "pass_on - die | synonym\n",
      "pass_over - die | synonym\n",
      "become_flat - die | synonym\n",
      "buy_farm - die | synonym\n",
      "cash_in_one's_chips - die | synonym\n",
      "choke - die | synonym\n",
      "conk - die | synonym\n",
      "croak - die | synonym\n",
      "decease - die | synonym\n",
      "drop_dead - die | synonym\n",
      "exit - die | synonym\n",
      "expire - die | synonym\n",
      "give_up_ghost - die | synonym\n",
      "go - die | synonym\n",
      "kick_bucket - die | synonym\n",
      "pall - die | synonym\n",
      "pass - die | synonym\n",
      "pass_away - die | synonym\n",
      "perish - die | synonym\n",
      "pop_off - die | synonym\n",
      "snuff_it - die | synonym\n",
      "die_out - die | synonym\n",
      "die - fail | synonym\n",
      "die - cube_of_chance | synonym\n",
      "die - cube_of_fortune | synonym\n",
      "die - buy_farm | synonym\n",
      "die - cop_it | synonym\n",
      "die - decease | synonym\n",
      "die - depart | synonym\n",
      "die - expire | synonym\n",
      "die - kick_bucket | synonym\n",
      "die - meet_one's_maker | synonym\n",
      "die - pass_away | synonym\n",
      "die - pay_debt_of_nature | synonym\n",
      "die - perish | synonym\n",
      "die - snuff_it | synonym\n",
      "die - take_dirt_nap | synonym\n",
      "die - dice | synonym\n",
      "die - bite_dust | synonym\n"
     ]
    }
   ],
   "source": [
    "sinonimos2=set()\n",
    "word_h=\"die\"\n",
    "for e in edges_for(Label.get(text=word_h, language='en').concepts, same_language=True):\n",
    "    #if \"similarTo\"==e.relation.name:# and ¿\n",
    "    if e.relation.name == \"synonym\":\n",
    "        print(e.start.text, \"-\", e.end.text, \"|\", e.relation.name)\n",
    "        if word_h== e.start.text:\n",
    "            sinonimos2.add(e.end.text)\n",
    "        elif word_h== e.end.text:\n",
    "            sinonimos2.add(e.start.text)"
   ]
  },
  {
   "cell_type": "code",
   "execution_count": 109,
   "metadata": {},
   "outputs": [
    {
     "data": {
      "text/plain": [
       "{'become_flat',\n",
       " 'bite_dust',\n",
       " 'buy_farm',\n",
       " \"cash_in_one's_chips\",\n",
       " 'choke',\n",
       " 'conk',\n",
       " 'cop_it',\n",
       " 'croak',\n",
       " 'cube_of_chance',\n",
       " 'cube_of_fortune',\n",
       " 'decease',\n",
       " 'depart',\n",
       " 'dice',\n",
       " 'die_out',\n",
       " 'drop_dead',\n",
       " 'exit',\n",
       " 'expire',\n",
       " 'fail',\n",
       " 'fall',\n",
       " 'give_up_ghost',\n",
       " 'go',\n",
       " 'kick_bucket',\n",
       " \"meet_one's_maker\",\n",
       " 'pall',\n",
       " 'pass',\n",
       " 'pass_away',\n",
       " 'pass_on',\n",
       " 'pass_over',\n",
       " 'pay_debt_of_nature',\n",
       " 'perish',\n",
       " 'pop_off',\n",
       " 'snuff_it',\n",
       " 'take_dirt_nap'}"
      ]
     },
     "execution_count": 109,
     "metadata": {},
     "output_type": "execute_result"
    }
   ],
   "source": [
    "sinonimos2"
   ]
  },
  {
   "cell_type": "code",
   "execution_count": 110,
   "metadata": {},
   "outputs": [
    {
     "data": {
      "text/plain": [
       "set()"
      ]
     },
     "execution_count": 110,
     "metadata": {},
     "output_type": "execute_result"
    }
   ],
   "source": [
    "sinonimos.intersection(sinonimos2)"
   ]
  },
  {
   "cell_type": "code",
   "execution_count": 111,
   "metadata": {},
   "outputs": [
    {
     "data": {
      "text/plain": [
       "{'action_on_object', 'hurt'}"
      ]
     },
     "execution_count": 111,
     "metadata": {},
     "output_type": "execute_result"
    }
   ],
   "source": [
    "sinonimos"
   ]
  },
  {
   "cell_type": "code",
   "execution_count": 17,
   "metadata": {},
   "outputs": [
    {
     "name": "stdout",
     "output_type": "stream",
     "text": [
      "gap /r/related_to pass related_to\n",
      "go_around /r/related_to pass related_to\n"
     ]
    }
   ],
   "source": [
    "word_h=\"pass\"\n",
    "for e1 in sinonimos:\n",
    "    try:\n",
    "        wt=e1\n",
    "        wh=word_h\n",
    "        concepts_wt = Label.get(text=wt, language='en').concepts\n",
    "        concepts_wh = Label.get(text=wh, language='en').concepts\n",
    "        for e in edges_between(concepts_wt, concepts_wh, two_way=True):\n",
    "            print(wt,e.relation,wh,e.relation.name)\n",
    "    except:\n",
    "        pass"
   ]
  },
  {
   "cell_type": "code",
   "execution_count": 23,
   "metadata": {},
   "outputs": [
    {
     "name": "stdout",
     "output_type": "stream",
     "text": [
      "[]\n"
     ]
    }
   ],
   "source": [
    "word_h=\"try_to_find\"\n",
    "sinonimos=[]\n",
    "for e in edges_for(Label.get(text=word_h, language='en').concepts, same_language=True):\n",
    "    if \"synonym\"==e.relation.name:# and word_h== e.start.text: #and word_t== e.end.text:\n",
    "        if word_h == e.start.text:\n",
    "            #print(e.start.text, \"-\", e.end.text, \"|\", e.relation.name)\n",
    "            sinonimos.append(e.end.text)\n",
    "        elif word_h == e.end.text:\n",
    "            #print(e.start.text, \"-\", e.end.text, \"|\", e.relation.name)\n",
    "            sinonimos.append(e.start.text)\n",
    "print(sinonimos)"
   ]
  },
  {
   "cell_type": "code",
   "execution_count": 24,
   "metadata": {},
   "outputs": [],
   "source": [
    "word_t=\"try_to_find\"\n",
    "sinonimos2=[]\n",
    "for e in edges_for(Label.get(text=word_t, language='en').concepts, same_language=True):\n",
    "    print(e.start.text, \"-\", e.end.text, \"|\", e.relation.name)"
   ]
  },
  {
   "cell_type": "code",
   "execution_count": 10,
   "metadata": {},
   "outputs": [
    {
     "name": "stdout",
     "output_type": "stream",
     "text": [
      "['batch', 'batch', 'cluster', 'cortege', 'grouping', 'chemical_group', 'radical', 'mathematical_group', 'group', 'aggroup', 'band', 'collection', 'amass', 'a']\n"
     ]
    }
   ],
   "source": [
    "word_t=\"group\"\n",
    "sinonimos2=[]\n",
    "for e in edges_for(Label.get(text=word_t, language='en').concepts, same_language=True):\n",
    "    if \"synonym\"==e.relation.name: #and word_t== e.end.text:\n",
    "        if word_t == e.start.text:\n",
    "            #print(e.start.text, \"-\", e.end.text, \"|\", e.relation.name)\n",
    "            sinonimos2.append(e.end.text)\n",
    "        elif word_t == e.end.text:\n",
    "            #print(e.start.text, \"-\", e.end.text, \"|\", e.relation.name)\n",
    "            sinonimos2.append(e.start.text)\n",
    "print(sinonimos2)"
   ]
  },
  {
   "cell_type": "code",
   "execution_count": 11,
   "metadata": {},
   "outputs": [
    {
     "data": {
      "text/plain": [
       "set()"
      ]
     },
     "execution_count": 11,
     "metadata": {},
     "output_type": "execute_result"
    }
   ],
   "source": [
    "set(sinonimos).intersection(set(sinonimos2))"
   ]
  },
  {
   "cell_type": "markdown",
   "metadata": {},
   "source": [
    "# IS A"
   ]
  },
  {
   "cell_type": "code",
   "execution_count": 12,
   "metadata": {},
   "outputs": [
    {
     "name": "stdout",
     "output_type": "stream",
     "text": [
      "coat - protective_covering | is_a\n",
      "armour - protective_covering | related_to\n",
      "armor - protective_covering | is_a\n",
      "car_seat_cover - protective_covering | is_a\n",
      "eyelid - protective_covering | is_a\n",
      "insulating_material - protective_covering | is_a\n",
      "kneecap - protective_covering | is_a\n",
      "lining - protective_covering | is_a\n",
      "mammal_hair - protective_covering | is_a\n",
      "opaque_covering - protective_covering | is_a\n",
      "payload_fairing - protective_covering | is_a\n",
      "physical_impact_buffer - protective_covering | is_a\n",
      "protective_garment - protective_covering | is_a\n",
      "shield - protective_covering | is_a\n",
      "slipcover - protective_covering | is_a\n",
      "swimming_pool_cover - protective_covering | is_a\n",
      "table_covering - protective_covering | is_a\n",
      "umbrella_used_as_covering - protective_covering | is_a\n",
      "upholstery - protective_covering | is_a\n",
      "weather_strip - protective_covering | is_a\n",
      "window_well_cover - protective_covering | is_a\n",
      "wool - protective_covering | is_a\n",
      "armor - protective_covering | is_a\n",
      "clypeus - protective_covering | is_a\n",
      "sclerite - protective_covering | is_a\n",
      "scute - protective_covering | is_a\n",
      "armor - protective_covering | is_a\n",
      "bell_jar - protective_covering | is_a\n",
      "binder - protective_covering | is_a\n",
      "binding - protective_covering | is_a\n",
      "blind - protective_covering | is_a\n",
      "bracer - protective_covering | is_a\n",
      "cap - protective_covering | is_a\n",
      "cloche - protective_covering | is_a\n",
      "coaster - protective_covering | is_a\n",
      "cold_frame - protective_covering | is_a\n",
      "crystal - protective_covering | is_a\n",
      "dust_cover - protective_covering | is_a\n",
      "faceplate - protective_covering | is_a\n",
      "facing - protective_covering | is_a\n",
      "fall_board - protective_covering | is_a\n",
      "finger_plate - protective_covering | is_a\n",
      "heat_shield - protective_covering | is_a\n",
      "hood - protective_covering | is_a\n",
      "housing - protective_covering | is_a\n",
      "lampshade - protective_covering | is_a\n",
      "lining - protective_covering | is_a\n",
      "mask - protective_covering | is_a\n",
      "mulch - protective_covering | is_a\n",
      "roof - protective_covering | is_a\n",
      "screen - protective_covering | is_a\n",
      "shade - protective_covering | is_a\n",
      "sheath - protective_covering | is_a\n",
      "sheathing - protective_covering | is_a\n",
      "shelter - protective_covering | is_a\n",
      "shield - protective_covering | is_a\n",
      "splashboard - protective_covering | is_a\n",
      "splasher - protective_covering | is_a\n",
      "testudo - protective_covering | is_a\n",
      "thumbstall - protective_covering | is_a\n",
      "toecap - protective_covering | is_a\n",
      "washboard - protective_covering | is_a\n",
      "protection - protective_covering | synonym\n",
      "protective_cover - protective_covering | synonym\n",
      "protective_covering - covering | is_a\n",
      "protective_covering - device | is_a\n",
      "protective_covering - non_agentive_artifact | is_a\n",
      "protective_covering - body_covering | is_a\n",
      "protective_covering - covering | is_a\n"
     ]
    }
   ],
   "source": [
    "word_h=\"protective_covering\"\n",
    "for e in edges_for(Label.get(text=word_h, language='en').concepts, same_language=True):\n",
    "    #if \"is_a\"==e.relation.name:# and word_h== e.end.text: #and word_t== e.end.text:\n",
    "        print(e.start.text, \"-\", e.end.text, \"|\", e.relation.name)"
   ]
  },
  {
   "cell_type": "code",
   "execution_count": 13,
   "metadata": {},
   "outputs": [
    {
     "name": "stdout",
     "output_type": "stream",
     "text": [
      "airplanes - wings | has_a\n",
      "angels - wings | has_a\n",
      "bat - wings | has_a\n",
      "bats - wings | has_a\n",
      "bird - wings | has_a\n",
      "birds - wings | has_a\n",
      "birds_and_airplanes - wings | has_a\n",
      "birds_fly_because - wings | has_a\n",
      "butterflies - wings | has_a\n",
      "butterfly - wings | has_a\n",
      "fairies - wings | has_a\n",
      "fly - wings | has_a\n",
      "most_birds - wings | has_a\n",
      "moths - wings | has_a\n",
      "parrots - wings | has_a\n",
      "people_fly_in_airplanes - wings | has_a\n",
      "planes - wings | has_a\n",
      "wings - higher_pressure_beneath | has_a\n"
     ]
    }
   ],
   "source": [
    "word_h=\"wings\"\n",
    "for e in edges_for(Label.get(text=word_h, language='en').concepts, same_language=True):\n",
    "    if \"has_a\"==e.relation.name:# and word_h== e.end.text: #and word_t== e.end.text:\n",
    "        print(e.start.text, \"-\", e.end.text, \"|\", e.relation.name)"
   ]
  },
  {
   "cell_type": "code",
   "execution_count": 14,
   "metadata": {},
   "outputs": [
    {
     "name": "stdout",
     "output_type": "stream",
     "text": [
      "blue - yellow | distinct_from\n",
      "green - yellow | distinct_from\n",
      "amber - yellow | synonym\n",
      "dilawan - yellow | synonym\n",
      "uncourageous - yellow | synonym\n",
      "yellow - yellow | synonym\n",
      "yellowness - yellow | synonym\n",
      "yellow - blue | distinct_from\n",
      "yellow - red | distinct_from\n",
      "yellow - achromatic | distinct_from\n",
      "yellow - courageous | distinct_from\n",
      "yellow - fearless | distinct_from\n",
      "yellow - cowardly | synonym\n",
      "yellow - fearful | synonym\n",
      "yellow - old | synonym\n",
      "yellow - xanthous | synonym\n",
      "yellow - yellowish | synonym\n",
      "yellow - amber | synonym\n",
      "yellow - yellowness | synonym\n",
      "yellow - chickenhearted | synonym\n",
      "yellow - icteric | synonym\n",
      "yellow - sensationalistic | synonym\n",
      "yellow - yellowed | synonym\n",
      "yellow - yellowish | synonym\n",
      "yellow - discolor | synonym\n",
      "yellow - turn_yellow | synonym\n"
     ]
    }
   ],
   "source": [
    "word_h=\"yellow\"\n",
    "for e in edges_for(Label.get(text=word_h, language='en').concepts, same_language=True):\n",
    "    if \"distinct_from\"==e.relation.name:# and word_h== e.end.text: #and word_t== e.end.text:\n",
    "        print(e.start.text, \"-\", e.end.text, \"|\", e.relation.name)\n",
    "    if \"synonym\"==e.relation.name:# and word_h== e.end.text: #and word_t== e.end.text:\n",
    "        print(e.start.text, \"-\", e.end.text, \"|\", e.relation.name)"
   ]
  },
  {
   "cell_type": "code",
   "execution_count": 15,
   "metadata": {},
   "outputs": [
    {
     "name": "stdout",
     "output_type": "stream",
     "text": [
      "adperson - person | derived_from\n",
      "alderperson - person | derived_from\n",
      "ambulanceperson - person | derived_from\n",
      "anchorperson - person | derived_from\n",
      "antiperson - person | derived_from\n",
      "assemblyperson - person | derived_from\n",
      "barperson - person | derived_from\n",
      "baseperson - person | derived_from\n",
      "bellperson - person | derived_from\n",
      "boatperson - person | derived_from\n",
      "bushperson - person | derived_from\n",
      "businessperson - person | derived_from\n",
      "cameraperson - person | derived_from\n",
      "catperson - person | derived_from\n",
      "cattleperson - person | derived_from\n",
      "caveperson - person | derived_from\n",
      "chairperson - person | derived_from\n",
      "churchperson - person | derived_from\n",
      "clergyperson - person | derived_from\n",
      "committeeperson - person | derived_from\n",
      "congressperson - person | derived_from\n",
      "conperson - person | derived_from\n",
      "corpsperson - person | derived_from\n",
      "councilperson - person | derived_from\n",
      "counterperson - person | derived_from\n"
     ]
    },
    {
     "name": "stdout",
     "output_type": "stream",
     "text": [
      "countryperson - person | derived_from\n",
      "cowperson - person | derived_from\n",
      "crewperson - person | derived_from\n",
      "cumberperson - person | derived_from\n",
      "cyberperson - person | derived_from\n",
      "deliveryperson - person | derived_from\n",
      "deperson - person | derived_from\n",
      "doorperson - person | derived_from\n",
      "dustperson - person | derived_from\n",
      "dutchperson - person | derived_from\n",
      "earthperson - person | derived_from\n",
      "englishperson - person | derived_from\n",
      "fireperson - person | derived_from\n",
      "fisherperson - person | derived_from\n",
      "flagperson - person | derived_from\n",
      "floorperson - person | derived_from\n",
      "foreperson - person | derived_from\n",
      "freedperson - person | derived_from\n",
      "frenchperson - person | derived_from\n",
      "freshperson - person | derived_from\n",
      "frontiersperson - person | derived_from\n",
      "frontperson - person | derived_from\n",
      "garbageperson - person | derived_from\n",
      "gunperson - person | derived_from\n",
      "handyperson - person | derived_from\n",
      "horseperson - person | derived_from\n",
      "houseperson - person | derived_from\n",
      "intraperson - person | derived_from\n",
      "ironperson - person | derived_from\n",
      "jazzperson - person | derived_from\n",
      "journeyperson - person | derived_from\n",
      "juryperson - person | derived_from\n",
      "layperson - person | derived_from\n",
      "lessperson - person | derived_from\n",
      "madperson - person | derived_from\n",
      "mailperson - person | derived_from\n",
      "mediaperson - person | derived_from\n",
      "merperson - person | derived_from\n",
      "middleperson - person | derived_from\n",
      "militiaperson - person | derived_from\n",
      "milkperson - person | derived_from\n",
      "misperson - person | derived_from\n",
      "multiperson - person | derived_from\n",
      "newspaperperson - person | derived_from\n",
      "newsperson - person | derived_from\n",
      "nonperson - person | derived_from\n",
      "nurseryperson - person | derived_from\n",
      "overperson - person | derived_from\n",
      "patrolperson - person | derived_from\n",
      "personable - person | derived_from\n",
      "personal - person | derived_from\n",
      "personative - person | derived_from\n",
      "personhood - person | derived_from\n",
      "personise - person | derived_from\n",
      "personish - person | derived_from\n",
      "personism - person | derived_from\n",
      "personist - person | derived_from\n",
      "personize - person | derived_from\n",
      "personkind - person | derived_from\n",
      "personness - person | derived_from\n",
      "personology - person | derived_from\n",
      "personpower - person | derived_from\n",
      "policeperson - person | derived_from\n",
      "postperson - person | derived_from\n",
      "pressperson - person | derived_from\n",
      "repairperson - person | derived_from\n",
      "salesperson - person | derived_from\n",
      "schoolperson - person | derived_from\n",
      "scotsperson - person | derived_from\n",
      "selectperson - person | derived_from\n",
      "serviceperson - person | derived_from\n",
      "showperson - person | derived_from\n",
      "sideperson - person | derived_from\n",
      "signalperson - person | derived_from\n",
      "slaughterperson - person | derived_from\n",
      "snowperson - person | derived_from\n",
      "soundperson - person | derived_from\n",
      "sportsperson - person | derived_from\n",
      "statesperson - person | derived_from\n",
      "stuntperson - person | derived_from\n",
      "superperson - person | derived_from\n",
      "theatreperson - person | derived_from\n",
      "tradesperson - person | derived_from\n",
      "underperson - person | derived_from\n",
      "unperson - person | derived_from\n",
      "venireperson - person | derived_from\n",
      "vestryperson - person | derived_from\n",
      "waitperson - person | derived_from\n",
      "weatherperson - person | derived_from\n",
      "workperson - person | derived_from\n",
      "yardperson - person | derived_from\n",
      "person_county - person | derived_from\n",
      "personnel - person | derived_from\n"
     ]
    }
   ],
   "source": [
    "word_h=\"person\"\n",
    "for e in edges_for(Label.get(text=word_h, language='en').concepts, same_language=True):\n",
    "    if \"derived_from\"==e.relation.name:# and word_h== e.end.text: #and word_t== e.end.text:\n",
    "        print(e.start.text, \"-\", e.end.text, \"|\", e.relation.name)"
   ]
  },
  {
   "cell_type": "code",
   "execution_count": 16,
   "metadata": {},
   "outputs": [
    {
     "name": "stdout",
     "output_type": "stream",
     "text": [
      "dressing_nice - ball | used_for\n",
      "ball - bearing | used_for\n",
      "ball - bearings | used_for\n",
      "ball - bouncing | used_for\n",
      "ball - bowling | used_for\n",
      "ball - catching | used_for\n",
      "ball - dancing_at | used_for\n",
      "ball - do_pilate_exercises | used_for\n",
      "ball - game | used_for\n",
      "ball - having_fun | used_for\n",
      "ball - hitting | used_for\n",
      "ball - inflating | used_for\n",
      "ball - kicking | used_for\n",
      "ball - play | used_for\n",
      "ball - play_golf | used_for\n",
      "ball - play_with_dog | used_for\n",
      "ball - playing_baseball | used_for\n",
      "ball - playing_basketball | used_for\n",
      "ball - playing_football | used_for\n",
      "ball - playing_game | used_for\n",
      "ball - playing_games | used_for\n",
      "ball - playing_soccer | used_for\n",
      "ball - rolling | used_for\n",
      "ball - tennis | used_for\n",
      "ball - throwing | used_for\n",
      "ball - bounce | used_for\n",
      "ball - roll | used_for\n"
     ]
    }
   ],
   "source": [
    "word_h=\"ball\"\n",
    "for e in edges_for(Label.get(text=word_h, language='en').concepts, same_language=True):\n",
    "    if \"used_for\"==e.relation.name:# and word_h== e.end.text: #and word_t== e.end.text:\n",
    "        print(e.start.text, \"-\", e.end.text, \"|\", e.relation.name)"
   ]
  },
  {
   "cell_type": "code",
   "execution_count": 17,
   "metadata": {},
   "outputs": [
    {
     "name": "stdout",
     "output_type": "stream",
     "text": [
      "apple - orange | distinct_from\n",
      "lemon - orange | distinct_from\n",
      "orangeness - orange | synonym\n",
      "orange_river - orange | synonym\n",
      "orange_tree - orange | synonym\n",
      "orange - orange | synonym\n",
      "orange - orange | synonym\n",
      "orange - apple | distinct_from\n",
      "orange - lemon | distinct_from\n",
      "orange - orangish | synonym\n"
     ]
    }
   ],
   "source": [
    "word_h=\"orange\"\n",
    "for e in edges_for(Label.get(text=word_h, language='en').concepts, same_language=True):\n",
    "    if \"distinct_from\"==e.relation.name:# and word_h== e.end.text: #and word_t== e.end.text:\n",
    "        print(e.start.text, \"-\", e.end.text, \"|\", e.relation.name)\n",
    "    if \"synonym\"==e.relation.name:# and word_h== e.end.text: #and word_t== e.end.text:\n",
    "        print(e.start.text, \"-\", e.end.text, \"|\", e.relation.name)"
   ]
  },
  {
   "cell_type": "code",
   "execution_count": 18,
   "metadata": {},
   "outputs": [
    {
     "data": {
      "text/plain": [
       "0"
      ]
     },
     "execution_count": 18,
     "metadata": {},
     "output_type": "execute_result"
    }
   ],
   "source": [
    "len(set(sinonimos).intersection(set(sinonimos2)))"
   ]
  },
  {
   "cell_type": "code",
   "execution_count": 19,
   "metadata": {},
   "outputs": [
    {
     "name": "stdout",
     "output_type": "stream",
     "text": [
      "An exception occurred\n"
     ]
    }
   ],
   "source": [
    "from conceptnet_lite import Label\n",
    "\n",
    "try:\n",
    "    cat_concepts = Label.get(text='blood-red').concepts  \n",
    "    for c in cat_concepts:\n",
    "        print(\"    Concept URI:\", c.uri)\n",
    "        print(\"    Concept text:\", c.text)\n",
    "except:\n",
    "  print(\"An exception occurred\")"
   ]
  },
  {
   "cell_type": "code",
   "execution_count": 20,
   "metadata": {},
   "outputs": [
    {
     "name": "stdout",
     "output_type": "stream",
     "text": [
      "0\n",
      "1\n",
      "Found\n",
      "2\n"
     ]
    }
   ],
   "source": [
    "list1 = [[1, 2, 3], [4, 5, 6], [7, 8, 9]]\n",
    "\n",
    "n = 9\n",
    "\n",
    "for x in range(3):\n",
    "    for y in range(3):\n",
    "        if list1[x][y] == n:\n",
    "            print(\"Found\")\n",
    "            break\n",
    "    print(x)\n",
    "    #break"
   ]
  },
  {
   "cell_type": "code",
   "execution_count": 21,
   "metadata": {},
   "outputs": [
    {
     "name": "stdout",
     "output_type": "stream",
     "text": [
      "ada\n"
     ]
    }
   ],
   "source": [
    "try:\n",
    "    print(\"ada\")\n",
    "except:\n",
    "    print()"
   ]
  }
 ],
 "metadata": {
  "kernelspec": {
   "display_name": "base",
   "language": "python",
   "name": "python3"
  },
  "language_info": {
   "codemirror_mode": {
    "name": "ipython",
    "version": 3
   },
   "file_extension": ".py",
   "mimetype": "text/x-python",
   "name": "python",
   "nbconvert_exporter": "python",
   "pygments_lexer": "ipython3",
   "version": "3.9.13"
  }
 },
 "nbformat": 4,
 "nbformat_minor": 2
}
